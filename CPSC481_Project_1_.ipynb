{
  "cells": [
    {
      "cell_type": "markdown",
      "metadata": {
        "colab_type": "text",
        "id": "view-in-github"
      },
      "source": [
        "<a href=\"https://colab.research.google.com/github/eynomr/Course-Planner/blob/main/CPSC481_Project_1_.ipynb\" target=\"_parent\"><img src=\"https://colab.research.google.com/assets/colab-badge.svg\" alt=\"Open In Colab\"/></a>"
      ]
    },
    {
      "cell_type": "code",
      "execution_count": 3,
      "metadata": {
        "id": "lZqQAmO7NtOd"
      },
      "outputs": [],
      "source": [
        "%matplotlib inline\n",
        "import pandas as pd\n",
        "import numpy as np\n",
        "import matplotlib.pyplot as plt\n",
        "import random\n",
        "import heapq\n",
        "import math\n",
        "import sys\n",
        "from collections import defaultdict, deque, Counter\n",
        "from itertools import combinations"
      ]
    },
    {
      "cell_type": "markdown",
      "metadata": {
        "id": "3GE_sLenOwpD"
      },
      "source": [
        "Problem Class Definition"
      ]
    },
    {
      "cell_type": "code",
      "execution_count": 4,
      "metadata": {
        "id": "yhOhJ1qXOPRU"
      },
      "outputs": [],
      "source": [
        "class Problem(object):\n",
        "    \"\"\"\n",
        "    The abstract class for a formal problem. A new domain subclasses this,\n",
        "    overriding `actions` and `results`, and perhaps other methods.\n",
        "    The default heuristic is 0 and the default action cost is 1 for all states.\n",
        "    When yiou create an instance of a subclass, specify `initial`, and `goal` states\n",
        "    (or give an `is_goal` method) and perhaps other keyword args for the subclass.\n",
        "    \"\"\"\n",
        "\n",
        "    def __init__(self, initial=None, goal=None, **kwds):\n",
        "        self.__dict__.update(initial=initial, goal=goal, **kwds)\n",
        "\n",
        "    def actions(self, state):        raise NotImplementedError\n",
        "    def result(self, state, action): raise NotImplementedError\n",
        "    def is_goal(self, state):        return state == self.goal\n",
        "    def action_cost(self, s, a, s1): return 1\n",
        "    def h(self, node):               return 0\n",
        "\n",
        "    def __str__(self):\n",
        "        return '{}({!r}, {!r})'.format(\n",
        "            type(self).__name__, self.initial, self.goal)"
      ]
    },
    {
      "cell_type": "markdown",
      "metadata": {
        "id": "5J7N_k-rO9Oo"
      },
      "source": [
        "Node Class Definition"
      ]
    },
    {
      "cell_type": "code",
      "execution_count": 5,
      "metadata": {
        "id": "AJq3oRWrOP1q"
      },
      "outputs": [],
      "source": [
        "class Node:\n",
        "    \"A Node in a search tree.\"\n",
        "    def __init__(self, state, parent=None, action=None, path_cost=0):\n",
        "        self.__dict__.update(state=state, parent=parent, action=action, path_cost=path_cost)\n",
        "\n",
        "    def __repr__(self): return '<{}>'.format(self.state)\n",
        "    def __len__(self): return 0 if self.parent is None else (1 + len(self.parent))\n",
        "    def __lt__(self, other): return self.path_cost < other.path_cost\n",
        "\n",
        "\n",
        "failure = Node('failure', path_cost=math.inf) # Indicates an algorithm couldn't find a solution.\n",
        "cutoff  = Node('cutoff',  path_cost=math.inf) # Indicates iterative deepening search was cut off."
      ]
    },
    {
      "cell_type": "code",
      "execution_count": 6,
      "metadata": {
        "id": "hMuo2cifOP8n"
      },
      "outputs": [],
      "source": [
        "def expand(problem, node):\n",
        "    \"Expand a node, generating the children nodes.\"\n",
        "    s = node.state\n",
        "    for action in problem.actions(s):\n",
        "        s1 = problem.result(s, action)\n",
        "        cost = node.path_cost + problem.action_cost(s, action, s1)\n",
        "        yield Node(s1, node, action, cost)\n",
        "\n",
        "\n",
        "def path_actions(node):\n",
        "    \"The sequence of actions to get to this node.\"\n",
        "    if node.parent is None:\n",
        "        return []\n",
        "    return path_actions(node.parent) + [node.action]\n",
        "\n",
        "\n",
        "def path_states(node):\n",
        "    \"The sequence of states to get to this node.\"\n",
        "    if node in (cutoff, failure, None):\n",
        "        return []\n",
        "    return path_states(node.parent) + [node.state]"
      ]
    },
    {
      "cell_type": "code",
      "execution_count": 7,
      "metadata": {
        "id": "J7xsZnL-ObTc"
      },
      "outputs": [],
      "source": [
        "FIFOQueue = deque\n",
        "\n",
        "LIFOQueue = list\n",
        "\n",
        "class PriorityQueue:\n",
        "    \"\"\"A queue in which the item with minimum f(item) is always popped first.\"\"\"\n",
        "\n",
        "    def __init__(self, items=(), key=lambda x: x):\n",
        "        self.key = key\n",
        "        self.items = [] # a heap of (score, item) pairs\n",
        "        for item in items:\n",
        "            self.add(item)\n",
        "\n",
        "    def add(self, item):\n",
        "        \"\"\"Add item to the queuez.\"\"\"\n",
        "        pair = (self.key(item), item)\n",
        "        heapq.heappush(self.items, pair)\n",
        "\n",
        "    def pop(self):\n",
        "        \"\"\"Pop and return the item with min f(item) value.\"\"\"\n",
        "        return heapq.heappop(self.items)[1]\n",
        "\n",
        "    def top(self): return self.items[0][1]\n",
        "\n",
        "    def __len__(self): return len(self.items)"
      ]
    },
    {
      "cell_type": "markdown",
      "metadata": {
        "id": "ece0bCPBPBQN"
      },
      "source": [
        "Search Functions"
      ]
    },
    {
      "cell_type": "code",
      "execution_count": 8,
      "metadata": {
        "id": "uL8ifZUwObuk"
      },
      "outputs": [],
      "source": [
        "def best_first_search(problem, f):\n",
        "    \"Search nodes with minimum f(node) value first.\"\n",
        "    node = Node(problem.initial)\n",
        "    frontier = PriorityQueue([node], key=f)\n",
        "    reached = {problem.initial: node}\n",
        "    while frontier:\n",
        "        node = frontier.pop()\n",
        "        if problem.is_goal(node.state):\n",
        "            return node\n",
        "        for child in expand(problem, node):\n",
        "            s = child.state\n",
        "            if s not in reached or child.path_cost < reached[s].path_cost:\n",
        "                reached[s] = child\n",
        "                frontier.add(child)\n",
        "    return failure\n",
        "\n",
        "\n",
        "def best_first_tree_search(problem, f):\n",
        "    \"A version of best_first_search without the `reached` table.\"\n",
        "    frontier = PriorityQueue([Node(problem.initial)], key=f)\n",
        "    while frontier:\n",
        "        node = frontier.pop()\n",
        "        if problem.is_goal(node.state):\n",
        "            return node\n",
        "        for child in expand(problem, node):\n",
        "            if not is_cycle(child):\n",
        "                frontier.add(child)\n",
        "    return failure\n",
        "\n",
        "\n",
        "def g(n): return n.path_cost\n",
        "\n",
        "\n",
        "def astar_search(problem, h=None):\n",
        "    \"\"\"Search nodes with minimum f(n) = g(n) + h(n).\"\"\"\n",
        "    h = h or problem.h\n",
        "    return best_first_search(problem, f=lambda n: g(n) + h(n))\n",
        "\n",
        "\n",
        "def astar_tree_search(problem, h=None):\n",
        "    \"\"\"Search nodes with minimum f(n) = g(n) + h(n), with no `reached` table.\"\"\"\n",
        "    h = h or problem.h\n",
        "    return best_first_tree_search(problem, f=lambda n: g(n) + h(n))\n",
        "\n",
        "\n",
        "def is_cycle(node, k=30):\n",
        "    \"Does this node form a cycle of length k or less?\"\n",
        "    def find_cycle(ancestor, k):\n",
        "        return (ancestor is not None and k > 0 and\n",
        "                (ancestor.state == node.state or find_cycle(ancestor.parent, k - 1)))\n",
        "    return find_cycle(node.parent, k)"
      ]
    },
    {
      "cell_type": "code",
      "execution_count": 35,
      "metadata": {
        "id": "g_t2qSRaFtCI"
      },
      "outputs": [],
      "source": [
        "df = pd.read_csv('./data/course_data.csv')"
      ]
    },
    {
      "cell_type": "code",
      "execution_count": 36,
      "metadata": {},
      "outputs": [
        {
          "data": {
            "text/html": [
              "<div>\n",
              "<style scoped>\n",
              "    .dataframe tbody tr th:only-of-type {\n",
              "        vertical-align: middle;\n",
              "    }\n",
              "\n",
              "    .dataframe tbody tr th {\n",
              "        vertical-align: top;\n",
              "    }\n",
              "\n",
              "    .dataframe thead th {\n",
              "        text-align: right;\n",
              "    }\n",
              "</style>\n",
              "<table border=\"1\" class=\"dataframe\">\n",
              "  <thead>\n",
              "    <tr style=\"text-align: right;\">\n",
              "      <th></th>\n",
              "      <th>course_number</th>\n",
              "      <th>course_name</th>\n",
              "      <th>description</th>\n",
              "      <th>work_load</th>\n",
              "      <th>prerequisits</th>\n",
              "      <th>required</th>\n",
              "      <th>type</th>\n",
              "    </tr>\n",
              "  </thead>\n",
              "  <tbody>\n",
              "    <tr>\n",
              "      <th>0</th>\n",
              "      <td>CPSC 120</td>\n",
              "      <td>Introduction to Programming (3)</td>\n",
              "      <td>Introduction to the concepts underlying all co...</td>\n",
              "      <td>1.5 hours lecture, 3 hours laboratory</td>\n",
              "      <td>MATH 125</td>\n",
              "      <td>1</td>\n",
              "      <td>lower_division</td>\n",
              "    </tr>\n",
              "    <tr>\n",
              "      <th>1</th>\n",
              "      <td>CPSC 121</td>\n",
              "      <td>Object-Oriented Programming (3)</td>\n",
              "      <td>The object-oriented programming paradigm: clas...</td>\n",
              "      <td>2 hours lecture, 2 hours activity</td>\n",
              "      <td>CPSC 120</td>\n",
              "      <td>1</td>\n",
              "      <td>lower_division</td>\n",
              "    </tr>\n",
              "    <tr>\n",
              "      <th>2</th>\n",
              "      <td>CPSC 131</td>\n",
              "      <td>Data Structures (3)</td>\n",
              "      <td>Classical data structures: vector, linked list...</td>\n",
              "      <td>Classical data structures: vector, linked list...</td>\n",
              "      <td>CPSC 121</td>\n",
              "      <td>1</td>\n",
              "      <td>lower_division</td>\n",
              "    </tr>\n",
              "    <tr>\n",
              "      <th>3</th>\n",
              "      <td>CPSC 223C</td>\n",
              "      <td>C Programming (3)</td>\n",
              "      <td>Systems programming in the C language, includi...</td>\n",
              "      <td>Systems programming in the C language, includi...</td>\n",
              "      <td>CPSC 131</td>\n",
              "      <td>1</td>\n",
              "      <td>lower_division</td>\n",
              "    </tr>\n",
              "    <tr>\n",
              "      <th>4</th>\n",
              "      <td>CPSC 223J</td>\n",
              "      <td>Java Programming (3)</td>\n",
              "      <td>Characteristics of Java: portable, robust, sec...</td>\n",
              "      <td>2 hours lecture, 2 hours lab per week</td>\n",
              "      <td>CPSC 131</td>\n",
              "      <td>1</td>\n",
              "      <td>lower_division</td>\n",
              "    </tr>\n",
              "    <tr>\n",
              "      <th>...</th>\n",
              "      <td>...</td>\n",
              "      <td>...</td>\n",
              "      <td>...</td>\n",
              "      <td>...</td>\n",
              "      <td>...</td>\n",
              "      <td>...</td>\n",
              "      <td>...</td>\n",
              "    </tr>\n",
              "    <tr>\n",
              "      <th>75</th>\n",
              "      <td>MATH 335</td>\n",
              "      <td>Mathematical Probability (4)</td>\n",
              "      <td>Probability theory; discrete, continuous and m...</td>\n",
              "      <td>Probability theory; discrete, continuous and m...</td>\n",
              "      <td>MATH 250A</td>\n",
              "      <td>0</td>\n",
              "      <td>other</td>\n",
              "    </tr>\n",
              "    <tr>\n",
              "      <th>76</th>\n",
              "      <td>MATH 340</td>\n",
              "      <td>Numerical Analysis (4)</td>\n",
              "      <td>Approximate numerical solutions of systems of ...</td>\n",
              "      <td>Approximate numerical solutions of systems of ...</td>\n",
              "      <td>MATH 250A, MATH 207 or MATH 250B, MATH 107, MA...</td>\n",
              "      <td>0</td>\n",
              "      <td>other</td>\n",
              "    </tr>\n",
              "    <tr>\n",
              "      <th>77</th>\n",
              "      <td>MATH 370</td>\n",
              "      <td>Mathematical Model Building (4)</td>\n",
              "      <td>Introduction to mathematical models in science...</td>\n",
              "      <td>Introduction to mathematical models in science...</td>\n",
              "      <td>MATH 250A, MATH 207 or MATH 250B, MATH 107, MA...</td>\n",
              "      <td>0</td>\n",
              "      <td>other</td>\n",
              "    </tr>\n",
              "    <tr>\n",
              "      <th>78</th>\n",
              "      <td>HONR 201B</td>\n",
              "      <td>Honors Seminar: American Institutions and Valu...</td>\n",
              "      <td>Critically examines the development of America...</td>\n",
              "      <td>Critically examines the development of America...</td>\n",
              "      <td>NaN</td>\n",
              "      <td>0</td>\n",
              "      <td>other</td>\n",
              "    </tr>\n",
              "    <tr>\n",
              "      <th>79</th>\n",
              "      <td>POSC 100</td>\n",
              "      <td>American Government (3)</td>\n",
              "      <td>People, their politics, and power; contemporar...</td>\n",
              "      <td>People, their politics, and power; contemporar...</td>\n",
              "      <td>NaN</td>\n",
              "      <td>0</td>\n",
              "      <td>other</td>\n",
              "    </tr>\n",
              "  </tbody>\n",
              "</table>\n",
              "<p>80 rows × 7 columns</p>\n",
              "</div>"
            ],
            "text/plain": [
              "   course_number                                        course_name  \\\n",
              "0       CPSC 120                    Introduction to Programming (3)   \n",
              "1       CPSC 121                    Object-Oriented Programming (3)   \n",
              "2       CPSC 131                                Data Structures (3)   \n",
              "3      CPSC 223C                                  C Programming (3)   \n",
              "4      CPSC 223J                               Java Programming (3)   \n",
              "..           ...                                                ...   \n",
              "75      MATH 335                       Mathematical Probability (4)   \n",
              "76      MATH 340                             Numerical Analysis (4)   \n",
              "77      MATH 370                    Mathematical Model Building (4)   \n",
              "78     HONR 201B  Honors Seminar: American Institutions and Valu...   \n",
              "79      POSC 100                            American Government (3)   \n",
              "\n",
              "                                          description  \\\n",
              "0   Introduction to the concepts underlying all co...   \n",
              "1   The object-oriented programming paradigm: clas...   \n",
              "2   Classical data structures: vector, linked list...   \n",
              "3   Systems programming in the C language, includi...   \n",
              "4   Characteristics of Java: portable, robust, sec...   \n",
              "..                                                ...   \n",
              "75  Probability theory; discrete, continuous and m...   \n",
              "76  Approximate numerical solutions of systems of ...   \n",
              "77  Introduction to mathematical models in science...   \n",
              "78  Critically examines the development of America...   \n",
              "79  People, their politics, and power; contemporar...   \n",
              "\n",
              "                                            work_load  \\\n",
              "0               1.5 hours lecture, 3 hours laboratory   \n",
              "1                   2 hours lecture, 2 hours activity   \n",
              "2   Classical data structures: vector, linked list...   \n",
              "3   Systems programming in the C language, includi...   \n",
              "4               2 hours lecture, 2 hours lab per week   \n",
              "..                                                ...   \n",
              "75  Probability theory; discrete, continuous and m...   \n",
              "76  Approximate numerical solutions of systems of ...   \n",
              "77  Introduction to mathematical models in science...   \n",
              "78  Critically examines the development of America...   \n",
              "79  People, their politics, and power; contemporar...   \n",
              "\n",
              "                                         prerequisits  required  \\\n",
              "0                                            MATH 125         1   \n",
              "1                                            CPSC 120         1   \n",
              "2                                            CPSC 121         1   \n",
              "3                                            CPSC 131         1   \n",
              "4                                            CPSC 131         1   \n",
              "..                                                ...       ...   \n",
              "75                                          MATH 250A         0   \n",
              "76  MATH 250A, MATH 207 or MATH 250B, MATH 107, MA...         0   \n",
              "77  MATH 250A, MATH 207 or MATH 250B, MATH 107, MA...         0   \n",
              "78                                                NaN         0   \n",
              "79                                                NaN         0   \n",
              "\n",
              "              type  \n",
              "0   lower_division  \n",
              "1   lower_division  \n",
              "2   lower_division  \n",
              "3   lower_division  \n",
              "4   lower_division  \n",
              "..             ...  \n",
              "75           other  \n",
              "76           other  \n",
              "77           other  \n",
              "78           other  \n",
              "79           other  \n",
              "\n",
              "[80 rows x 7 columns]"
            ]
          },
          "execution_count": 36,
          "metadata": {},
          "output_type": "execute_result"
        }
      ],
      "source": [
        "df"
      ]
    },
    {
      "cell_type": "code",
      "execution_count": 40,
      "metadata": {
        "colab": {
          "base_uri": "https://localhost:8080/",
          "height": 1000
        },
        "id": "l1MWqFq8F1H0",
        "outputId": "d99984f2-77b5-40c2-dab3-af3eaaa582f2"
      },
      "outputs": [
        {
          "name": "stdout",
          "output_type": "stream",
          "text": [
            "{'CPSC 120': ['MATH 125'], 'CPSC 121': ['CPSC 120'], 'CPSC 131': ['CPSC 121'], 'CPSC 223C': ['CPSC 131'], 'CPSC 223J': ['CPSC 131'], 'CPSC 223N': ['CPSC 131'], 'CPSC 223P': ['CPSC 131'], 'CPSC 223W': ['CPSC 131'], 'CPSC 240': ['CPSC 131', ' MATH 170A or MATH 280'], 'CPSC 253': [], 'CPSC 315': ['CPSC 131'], 'CPSC 323': ['CPSC 131'], 'CPSC 332': ['CPSC 131'], 'CPSC 335': ['CPSC 131', ' MATH 170A', ' MATH 150A'], 'CPSC 351': ['CPSC 131'], 'CPSC 362': ['CPSC 131'], 'CPSC 471': ['CPSC 351'], 'CPSC 481': ['CPSC 335', ' MATH 338'], 'CPSC 490': ['CPSC 362'], 'CPSC 491': ['CPSC 490'], 'MATH 150A': [], 'MATH 150B': ['MATH 150A'], 'MATH 170A': [], 'MATH 170B': [], 'MATH 338': ['MATH 106', ' MATH 130 or MATH 150B'], 'CPSC 254': ['CPSC 131'], 'CPSC 301': ['CPSC 131'], 'CPSC 349': ['CPSC 131'], 'CPSC 352': ['MATH 170B', ' CPSC 131', ' CPSC 253'], 'CPSC 375': ['CPSC 131', ' MATH 338'], 'CPSC 386': ['CPSC 121'], 'CPSC 411': ['CPSC 131'], 'CPSC 411A': ['CPSC 131'], 'CPSC 431': ['CPSC 332'], 'CPSC 439': ['CPSC 121 or MATH 320', ' MATH 170B or MATH 280'], 'CPSC 440': ['CPSC 240'], 'CPSC 449': ['CPSC 332'], 'CPSC 454': ['CPSC 351', ' CPSC 253'], 'CPSC 455': ['CPSC 351 or CPSC 353'], 'CPSC 456': ['CPSC 351'], 'CPSC 458': ['CPSC 351'], 'CPSC 459': ['CPSC 351', ' CPSC 352 or CPSC 353'], 'CPSC 462': ['CPSC 362'], 'CPSC 463': ['CPSC 362'], 'CPSC 464': ['CPSC 362'], 'CPSC 466': ['CPSC 362'], 'CPSC 474': ['CPSC 351'], 'CPSC 479': ['CPSC 351'], 'CPSC 483': ['CPSC 335', ' MATH 338'], 'CPSC 484': ['CPSC 131', ' MATH 150B', ' MATH 170B'], 'CPSC 485': ['CPSC 131'], 'CPSC 486': ['CPSC 386', ' CPSC 484'], 'CPSC 489': ['CPSC 486'], 'CPSC 499': [], 'EGGN 495': []}\n"
          ]
        }
      ],
      "source": [
        "df['course_units'] = df['course_name'].str.extract(r'\\((\\d+)\\)')\n",
        "course_data = df[['course_number', 'course_units', 'prerequisits', 'required', 'type']]\n",
        "course_data = course_data[course_data['required'] == True]\n",
        "\n",
        "courses = dict(zip(course_data['course_number'], course_data['course_units']))\n",
        "prereqs = {}\n",
        "for index, row in course_data.iterrows():\n",
        "  course_number = row['course_number']\n",
        "  prereq_str = row['prerequisits']\n",
        "  prereqs[course_number] = [] if pd.isna(prereq_str) else prereq_str.split(',')\n",
        "\n",
        "print(prereqs)"
      ]
    },
    {
      "cell_type": "code",
      "execution_count": 50,
      "metadata": {},
      "outputs": [],
      "source": [
        "# need to check for each type if the total units are met (lower, upper, math, electives)\n",
        "\n",
        "class CoursePlanner(Problem):\n",
        "  def __init__(self, courses, initial=None, goal=None):\n",
        "    Problem.__init__(self, initial=initial, goal=goal, courses=courses)\n",
        "\n",
        "  def actions(self, state):\n",
        "    available_courses = [course for course in self.courses if state[course] == 0]\n",
        "    valid_actions = []\n",
        "\n",
        "    for course in available_courses:\n",
        "      # Check if prereq is satisfied\n",
        "      prereq_satisfied = all(prereq in state and state[prereq] > 0 for prereq in prereqs[course])\n",
        "\n",
        "      if prereq_satisfied:\n",
        "        # check if max units are reached\n",
        "        if state['units'] + int(courses[course]) <= 17:\n",
        "          valid_actions.append(course)\n",
        "\n",
        "    return valid_actions\n",
        "\n",
        "\n",
        "    def results(self, state, action):\n",
        "      # take new courses and return the new state\n",
        "      new_state = state.copy()\n",
        "\n",
        "      # set the course as taken\n",
        "      new_state[action] = 1\n",
        "      new_state['units'] += int(courses[action])\n",
        "      return new_state\n",
        "\n",
        "    def is_goal(self, state):\n",
        "      return all(state[course] == 1 for course in self.courses)\n",
        "\n",
        "    def h(self, node):\n",
        "      # gotta think about this one\n",
        "      return 0\n",
        "\n"
      ]
    },
    {
      "cell_type": "code",
      "execution_count": 44,
      "metadata": {},
      "outputs": [
        {
          "name": "stdout",
          "output_type": "stream",
          "text": [
            "{'CPSC 120': 0, 'CPSC 121': 0, 'CPSC 131': 0, 'CPSC 223C': 0, 'CPSC 223J': 0, 'CPSC 223N': 0, 'CPSC 223P': 0, 'CPSC 223W': 0, 'CPSC 240': 0, 'CPSC 253': 0, 'CPSC 315': 0, 'CPSC 323': 0, 'CPSC 332': 0, 'CPSC 335': 0, 'CPSC 351': 0, 'CPSC 362': 0, 'CPSC 471': 0, 'CPSC 481': 0, 'CPSC 490': 0, 'CPSC 491': 0, 'MATH 150A': 0, 'MATH 150B': 0, 'MATH 170A': 0, 'MATH 170B': 0, 'MATH 338': 0, 'CPSC 254': 0, 'CPSC 301': 0, 'CPSC 349': 0, 'CPSC 352': 0, 'CPSC 375': 0, 'CPSC 386': 0, 'CPSC 411': 0, 'CPSC 411A': 0, 'CPSC 431': 0, 'CPSC 439': 0, 'CPSC 440': 0, 'CPSC 449': 0, 'CPSC 454': 0, 'CPSC 455': 0, 'CPSC 456': 0, 'CPSC 458': 0, 'CPSC 459': 0, 'CPSC 462': 0, 'CPSC 463': 0, 'CPSC 464': 0, 'CPSC 466': 0, 'CPSC 474': 0, 'CPSC 479': 0, 'CPSC 483': 0, 'CPSC 484': 0, 'CPSC 485': 0, 'CPSC 486': 0, 'CPSC 489': 0, 'CPSC 499': 0, 'EGGN 495': 0, 'units': 0}\n"
          ]
        }
      ],
      "source": [
        "initial_state = {course: 0 for course in courses}\n",
        "initial_state['units'] = 0\n",
        "print(initial_state)\n",
        "goal_state = {course: 1 for course in courses}"
      ]
    },
    {
      "cell_type": "code",
      "execution_count": 51,
      "metadata": {},
      "outputs": [],
      "source": [
        "course_planner = CoursePlanner(courses, initial_state, goal_state)"
      ]
    },
    {
      "cell_type": "code",
      "execution_count": 52,
      "metadata": {},
      "outputs": [
        {
          "ename": "TypeError",
          "evalue": "unhashable type: 'dict'",
          "output_type": "error",
          "traceback": [
            "\u001b[0;31m---------------------------------------------------------------------------\u001b[0m",
            "\u001b[0;31mTypeError\u001b[0m                                 Traceback (most recent call last)",
            "\u001b[1;32m/Users/eynomr/csuf/CPSC481/course-planner/CPSC481_Project_1_.ipynb Cell 17\u001b[0m line \u001b[0;36m1\n\u001b[0;32m----> <a href='vscode-notebook-cell:/Users/eynomr/csuf/CPSC481/course-planner/CPSC481_Project_1_.ipynb#X21sZmlsZQ%3D%3D?line=0'>1</a>\u001b[0m solution \u001b[39m=\u001b[39m astar_search(course_planner)\n",
            "\u001b[1;32m/Users/eynomr/csuf/CPSC481/course-planner/CPSC481_Project_1_.ipynb Cell 17\u001b[0m line \u001b[0;36m3\n\u001b[1;32m     <a href='vscode-notebook-cell:/Users/eynomr/csuf/CPSC481/course-planner/CPSC481_Project_1_.ipynb#X21sZmlsZQ%3D%3D?line=34'>35</a>\u001b[0m \u001b[39m\u001b[39m\u001b[39m\"\"\"Search nodes with minimum f(n) = g(n) + h(n).\"\"\"\u001b[39;00m\n\u001b[1;32m     <a href='vscode-notebook-cell:/Users/eynomr/csuf/CPSC481/course-planner/CPSC481_Project_1_.ipynb#X21sZmlsZQ%3D%3D?line=35'>36</a>\u001b[0m h \u001b[39m=\u001b[39m h \u001b[39mor\u001b[39;00m problem\u001b[39m.\u001b[39mh\n\u001b[0;32m---> <a href='vscode-notebook-cell:/Users/eynomr/csuf/CPSC481/course-planner/CPSC481_Project_1_.ipynb#X21sZmlsZQ%3D%3D?line=36'>37</a>\u001b[0m \u001b[39mreturn\u001b[39;00m best_first_search(problem, f\u001b[39m=\u001b[39;49m\u001b[39mlambda\u001b[39;49;00m n: g(n) \u001b[39m+\u001b[39;49m h(n))\n",
            "\u001b[1;32m/Users/eynomr/csuf/CPSC481/course-planner/CPSC481_Project_1_.ipynb Cell 17\u001b[0m line \u001b[0;36m5\n\u001b[1;32m      <a href='vscode-notebook-cell:/Users/eynomr/csuf/CPSC481/course-planner/CPSC481_Project_1_.ipynb#X21sZmlsZQ%3D%3D?line=2'>3</a>\u001b[0m node \u001b[39m=\u001b[39m Node(problem\u001b[39m.\u001b[39minitial)\n\u001b[1;32m      <a href='vscode-notebook-cell:/Users/eynomr/csuf/CPSC481/course-planner/CPSC481_Project_1_.ipynb#X21sZmlsZQ%3D%3D?line=3'>4</a>\u001b[0m frontier \u001b[39m=\u001b[39m PriorityQueue([node], key\u001b[39m=\u001b[39mf)\n\u001b[0;32m----> <a href='vscode-notebook-cell:/Users/eynomr/csuf/CPSC481/course-planner/CPSC481_Project_1_.ipynb#X21sZmlsZQ%3D%3D?line=4'>5</a>\u001b[0m reached \u001b[39m=\u001b[39m {problem\u001b[39m.\u001b[39minitial: node}\n\u001b[1;32m      <a href='vscode-notebook-cell:/Users/eynomr/csuf/CPSC481/course-planner/CPSC481_Project_1_.ipynb#X21sZmlsZQ%3D%3D?line=5'>6</a>\u001b[0m \u001b[39mwhile\u001b[39;00m frontier:\n\u001b[1;32m      <a href='vscode-notebook-cell:/Users/eynomr/csuf/CPSC481/course-planner/CPSC481_Project_1_.ipynb#X21sZmlsZQ%3D%3D?line=6'>7</a>\u001b[0m     node \u001b[39m=\u001b[39m frontier\u001b[39m.\u001b[39mpop()\n",
            "\u001b[0;31mTypeError\u001b[0m: unhashable type: 'dict'"
          ]
        }
      ],
      "source": [
        "solution = astar_search(course_planner)"
      ]
    },
    {
      "cell_type": "code",
      "execution_count": null,
      "metadata": {},
      "outputs": [],
      "source": []
    },
    {
      "cell_type": "code",
      "execution_count": null,
      "metadata": {},
      "outputs": [],
      "source": []
    }
  ],
  "metadata": {
    "colab": {
      "authorship_tag": "ABX9TyMz5PcR2fBNxtE1olSlo1/1",
      "include_colab_link": true,
      "provenance": []
    },
    "kernelspec": {
      "display_name": "Python 3",
      "name": "python3"
    },
    "language_info": {
      "codemirror_mode": {
        "name": "ipython",
        "version": 3
      },
      "file_extension": ".py",
      "mimetype": "text/x-python",
      "name": "python",
      "nbconvert_exporter": "python",
      "pygments_lexer": "ipython3",
      "version": "3.9.6"
    }
  },
  "nbformat": 4,
  "nbformat_minor": 0
}
